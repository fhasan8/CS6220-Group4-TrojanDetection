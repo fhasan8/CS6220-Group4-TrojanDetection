{
  "nbformat": 4,
  "nbformat_minor": 0,
  "metadata": {
    "colab": {
      "provenance": []
    },
    "kernelspec": {
      "name": "python3",
      "display_name": "Python 3"
    },
    "language_info": {
      "name": "python"
    }
  },
  "cells": [
    {
      "cell_type": "code",
      "execution_count": null,
      "metadata": {
        "id": "lleYo2DHmijr"
      },
      "outputs": [],
      "source": [
        "uploaded = files.upload() # upload a model.pt file from challenge dataset\n",
        "uploaded = files.upload() # upload wrn.py file found in starter repo for challenge (https://github.com/mmazeika/tdc-starter-kit)"
      ]
    },
    {
      "cell_type": "code",
      "source": [
        "import torch\n",
        "import torchvision.models as models\n",
        "\n",
        "model = torch.load(\"model.pt\")\n",
        "model.eval()  \n",
        "dummy_input = torch.randn(1, 3, 300, 50, requires_grad=True)  # selected random input size that worked for detection/train/trojan/id-0000/model.pt\n",
        "\n",
        "# Export the model   \n",
        "torch.onnx.export(model,              # model being run \n",
        "         dummy_input,                 # model input (or a tuple for multiple inputs) \n",
        "         \"onnxModel.onnx\",            # where to save the model  \n",
        "         export_params=True,          # store the trained parameter weights inside the model file \n",
        "         opset_version=10,            # the ONNX version to export the model to \n",
        "         do_constant_folding=True,    # whether to execute constant folding for optimization \n",
        "         input_names = ['modelInput'],   # the model's input names \n",
        "         output_names = ['modelOutput'], # the model's output names \n",
        "         dynamic_axes={'modelInput' : {0 : 'batch_size'}, 'modelOutput' : {0 : 'batch_size'}})  # variable length axes"
      ],
      "metadata": {
        "id": "KdiaIFLRmuAR"
      },
      "execution_count": null,
      "outputs": []
    },
    {
      "cell_type": "code",
      "source": [
        "!pip install git+https://github.com/onnx/onnx-tensorflow.git\n",
        "import keras\n",
        "import onnx\n",
        "from onnx_tf.backend import prepare\n",
        "\n",
        "onnx_model = onnx.load(\"onnxModel.onnx\")  # load onnx model\n",
        "tf_rep = prepare(onnx_model)  # prepare tf representation\n",
        "tf_rep.export_graph(\"output_path\")  # export the model"
      ],
      "metadata": {
        "id": "mCQYeN20mxMT"
      },
      "execution_count": null,
      "outputs": []
    },
    {
      "cell_type": "code",
      "source": [
        "loaded_model = keras.models.load_model('output_path')\n",
        "\n",
        "#loaded_model.save('model.h5')\n",
        "#model = keras.model.load_model('model.h5')"
      ],
      "metadata": {
        "id": "egtaMNfdm5Mq"
      },
      "execution_count": null,
      "outputs": []
    }
  ]
}