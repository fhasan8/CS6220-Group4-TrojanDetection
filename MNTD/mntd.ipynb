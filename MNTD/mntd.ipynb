{
 "cells": [
  {
   "cell_type": "code",
   "execution_count": 10,
   "metadata": {},
   "outputs": [],
   "source": [
    "import torch\n",
    "import os\n",
    "import json\n",
    "from tqdm.notebook import tqdm\n",
    "import numpy as np\n",
    "import matplotlib.pyplot as plt\n",
    "from torch import nn\n",
    "import torch.nn.functional as F\n",
    "import torch.backends.cudnn as cudnn\n",
    "cudnn.benchmark = True  # fire on all cylinders\n",
    "from sklearn.metrics import roc_auc_score, roc_curve\n",
    "import sys\n",
    "\n",
    "sys.path.insert(0, '..')"
   ]
  },
  {
   "cell_type": "markdown",
   "metadata": {},
   "source": [
    "## Create the dataset class"
   ]
  },
  {
   "cell_type": "code",
   "execution_count": 19,
   "metadata": {},
   "outputs": [],
   "source": [
    "class NetworkDatasetDetection(torch.utils.data.Dataset):\n",
    "    def __init__(self, model_folder):\n",
    "        super().__init__()\n",
    "        model_paths = []\n",
    "        model_paths.extend([os.path.join(model_folder, 'clean', x) \\\n",
    "                            for x in sorted(os.listdir(os.path.join(model_folder, 'clean')))])\n",
    "        model_paths.extend([os.path.join(model_folder, 'trojan', x) \\\n",
    "                            for x in sorted(os.listdir(os.path.join(model_folder, 'trojan')))])\n",
    "        labels = []\n",
    "        data_sources = []\n",
    "        for p in model_paths:\n",
    "            with open(os.path.join(p, 'info.json'), 'r') as f:\n",
    "                info = json.load(f)\n",
    "                data_sources.append(info['dataset'])\n",
    "            if p.split('/')[-2] == 'clean':\n",
    "                labels.append(0)\n",
    "            elif p.split('/')[-2] == 'trojan':\n",
    "                labels.append(1)\n",
    "            else:\n",
    "                raise ValueError('unexpected path {}'.format(p))\n",
    "        self.model_paths = model_paths\n",
    "        self.labels = labels\n",
    "        self.data_sources = data_sources\n",
    "    \n",
    "    def __len__(self):\n",
    "        return len(self.model_paths)\n",
    "    \n",
    "    def __getitem__(self, index):\n",
    "        return torch.load(os.path.join(self.model_paths[index], 'model.pt')), \\\n",
    "               self.labels[index], self.data_sources[index]\n",
    "\n",
    "def custom_collate(batch):\n",
    "    return [x[0] for x in batch], [x[1] for x in batch], [x[2] for x in batch]"
   ]
  },
  {
   "cell_type": "code",
   "execution_count": 20,
   "metadata": {},
   "outputs": [
    {
     "name": "stdout",
     "output_type": "stream",
     "text": [
      "/Users/fhasan8/study/tdc22/tdc-starter-kit/detection\r\n"
     ]
    }
   ],
   "source": [
    "!pwd"
   ]
  },
  {
   "cell_type": "markdown",
   "metadata": {},
   "source": [
    "## Load data\n",
    "Spliting off a validation set from the train set for testing purposes."
   ]
  },
  {
   "cell_type": "code",
   "execution_count": 22,
   "metadata": {},
   "outputs": [],
   "source": [
    "dataset_path = '../../tdc_datasets'\n",
    "task = 'detection'\n",
    "dataset = NetworkDatasetDetection(os.path.join(dataset_path, task, 'train'))\n",
    "seed = 42\n",
    "np.random.seed(seed)\n",
    "\n",
    "split = int(len(dataset) * 0.8)\n",
    "rnd_idx = np.random.permutation(len(dataset))\n",
    "train_dataset = torch.utils.data.Subset(dataset, rnd_idx[:split])\n",
    "val_dataset = torch.utils.data.Subset(dataset, rnd_idx[split:])\n",
    "\n",
    "train_loader = torch.utils.data.DataLoader(train_dataset, batch_size=1, shuffle=True,\n",
    "                                           num_workers=0, pin_memory=False, collate_fn=custom_collate)\n",
    "val_loader = torch.utils.data.DataLoader(val_dataset, batch_size=1,\n",
    "                                           num_workers=0, pin_memory=False, collate_fn=custom_collate)"
   ]
  },
  {
   "cell_type": "markdown",
   "metadata": {},
   "source": [
    "## Construct the MNTD network"
   ]
  },
  {
   "cell_type": "code",
   "execution_count": 23,
   "metadata": {},
   "outputs": [],
   "source": [
    "\n",
    "data_sources = ['CIFAR-10', 'CIFAR-100', 'GTSRB', 'MNIST']\n",
    "data_source_to_channel = {k: 1 if k == 'MNIST' else 3 for k in data_sources}\n",
    "data_source_to_resolution = {k: 28 if k == 'MNIST' else 32 for k in data_sources}\n",
    "data_source_to_num_classes = {'CIFAR-10': 10, 'CIFAR-100': 100, 'GTSRB': 43, 'MNIST': 10}\n",
    "\n",
    "class MetaNetwork(nn.Module):\n",
    "    def __init__(self, num_queries, num_classes=1):\n",
    "        super().__init__()\n",
    "        self.queries = nn.ParameterDict(\n",
    "            {k: nn.Parameter(torch.rand(num_queries,\n",
    "                                        data_source_to_channel[k],\n",
    "                                        data_source_to_resolution[k],\n",
    "                                        data_source_to_resolution[k])) for k in data_sources}\n",
    "        )\n",
    "        self.affines = nn.ModuleDict(\n",
    "            {k: nn.Linear(data_source_to_num_classes[k]*num_queries, 32) for k in data_sources}\n",
    "        )\n",
    "        self.norm = nn.LayerNorm(32)\n",
    "        self.relu = nn.ReLU(True)\n",
    "        self.final_output = nn.Linear(32, num_classes)\n",
    "    \n",
    "    def forward(self, net, data_source):\n",
    "        \"\"\"\n",
    "        :param net: an input network of one of the model_types specified at init\n",
    "        :param data_source: the name of the data source\n",
    "        :returns: a score for whether the network is a Trojan or not\n",
    "        \"\"\"\n",
    "        query = self.queries[data_source]\n",
    "        out = net(query)\n",
    "        out = self.affines[data_source](out.view(1, -1))\n",
    "        out = self.norm(out)\n",
    "        out = self.relu(out)\n",
    "        return self.final_output(out)"
   ]
  },
  {
   "cell_type": "code",
   "execution_count": null,
   "metadata": {},
   "outputs": [],
   "source": [
    "## Network in linear layers\n",
    "class MetaNetwork(nn.Module):\n",
    "    def __init__(self, num_queries, num_classes=1):\n",
    "        super().__init__()\n",
    "        self.queries = nn.ParameterDict(\n",
    "            {k: nn.Parameter(torch.rand(num_queries,\n",
    "                                        data_source_to_channel[k],\n",
    "                                        data_source_to_resolution[k],\n",
    "                                        data_source_to_resolution[k])) for k in data_sources}\n",
    "        )\n",
    "        self.affines = nn.ModuleDict(\n",
    "            {k: nn.Linear(data_source_to_num_classes[k]*num_queries, 1024) for k in data_sources}\n",
    "        )\n",
    "        self.norm = nn.LayerNorm(1024)\n",
    "        self.relu = nn.ReLU(True)\n",
    "        self.final_output1 = nn.Linear(1024, 32)\n",
    "        self.final_output2 = nn.Linear(32, num_classes)\n",
    "    \n",
    "    def forward(self, net, data_source):\n",
    "        \"\"\"\n",
    "        :param net: an input network of one of the model_types specified at init\n",
    "        :param data_source: the name of the data source\n",
    "        :returns: a score for whether the network is a Trojan or not\n",
    "        \"\"\"\n",
    "        query = self.queries[data_source]\n",
    "        out = net(query)\n",
    "        out = self.affines[data_source](out.view(1, -1))\n",
    "        out = self.norm(out)\n",
    "        out = self.relu(out)\n",
    "        out = self.final_output1(out)\n",
    "        return self.final_output2(out)"
   ]
  },
  {
   "cell_type": "code",
   "execution_count": 49,
   "metadata": {},
   "outputs": [],
   "source": [
    "## Deep network with linear layers\n",
    "class MetaNetworkLinear(nn.Module):\n",
    "    def __init__(self, num_queries, num_classes=1):\n",
    "        super().__init__()\n",
    "        self.queries = nn.ParameterDict(\n",
    "            {k: nn.Parameter(torch.rand(num_queries,\n",
    "                                        data_source_to_channel[k],\n",
    "                                        data_source_to_resolution[k],\n",
    "                                        data_source_to_resolution[k])) for k in data_sources}\n",
    "        )\n",
    "        self.affines = nn.ModuleDict(\n",
    "            {k: nn.Linear(data_source_to_num_classes[k]*num_queries, 4096) for k in data_sources}\n",
    "        )\n",
    "        self.norm = nn.LayerNorm(4096)\n",
    "        self.relu = nn.ReLU(True)\n",
    "        self.affines1 = nn.ModuleDict(\n",
    "            {k: nn.Linear(4096, 512) for k in data_sources}\n",
    "        )\n",
    "        self.norm1 = nn.LayerNorm(512)\n",
    "        self.relu1 = nn.ReLU(True)\n",
    "        self.affines2 = nn.ModuleDict(\n",
    "            {k: nn.Linear(512, 32) for k in data_sources}\n",
    "        )\n",
    "        self.norm2 = nn.LayerNorm(32)\n",
    "        self.relu2 = nn.ReLU(True)\n",
    "        self.final_output2 = nn.Linear(32, num_classes)\n",
    "        \n",
    "    \n",
    "    def forward(self, net, data_source):\n",
    "        \"\"\"\n",
    "        :param net: an input network of one of the model_types specified at init\n",
    "        :param data_source: the name of the data source\n",
    "        :returns: a score for whether the network is a Trojan or not\n",
    "        \"\"\"\n",
    "        query = self.queries[data_source]\n",
    "        out = net(query)\n",
    "        out = self.affines[data_source](out.view(1, -1))\n",
    "        out = self.norm(out)\n",
    "        out = self.relu(out)\n",
    "        out = self.affines1[data_source](out)\n",
    "        out = self.norm1(out)\n",
    "        out = self.relu1(out)\n",
    "        out = self.affines[data_source](out)\n",
    "        out = self.norm(out)\n",
    "        out = self.relu(out)\n",
    "        return self.final_output2(out)"
   ]
  },
  {
   "cell_type": "code",
   "execution_count": 36,
   "metadata": {},
   "outputs": [],
   "source": [
    "## Deep network with convolution layers\n",
    "class MetaNetworkDeepConvolution(nn.Module):\n",
    "    def __init__(self, num_queries, num_classes=1):\n",
    "        super().__init__()\n",
    "        self.queries = nn.ParameterDict(\n",
    "            {k: nn.Parameter(torch.rand(num_queries,\n",
    "                                        data_source_to_channel[k],\n",
    "                                        data_source_to_resolution[k],\n",
    "                                        data_source_to_resolution[k])) for k in data_sources}\n",
    "        )\n",
    "        self.affines = nn.ModuleDict(\n",
    "            {k: nn.Linear(data_source_to_num_classes[k]*num_queries, 4096) for k in data_sources}\n",
    "        )\n",
    "        self.norm = nn.LayerNorm(4096)\n",
    "        self.relu = nn.ReLU(True)\n",
    "        self.conv1 = nn.Conv2d(4096, 1024, kernel_size = 3, padding='same')\n",
    "        self.maxpool1 = nn.MaxPool2d(3)\n",
    "        self.norm2 = nn.BatchNorm2d(1024)\n",
    "        self.final_output2 = nn.Linear(32, num_classes)\n",
    "        \n",
    "    \n",
    "    def forward(self, net, data_source):\n",
    "        \"\"\"\n",
    "        :param net: an input network of one of the model_types specified at init\n",
    "        :param data_source: the name of the data source\n",
    "        :returns: a score for whether the network is a Trojan or not\n",
    "        \"\"\"\n",
    "        query = self.queries[data_source]\n",
    "        out = net(query)\n",
    "        out = self.affines[data_source](out.view(1, -1))\n",
    "        out = self.norm(out)\n",
    "        out = self.relu(out)\n",
    "        out = self.conv1(out)\n",
    "        out = self.maxpool1(out)\n",
    "        return self.final_output2(out)"
   ]
  },
  {
   "cell_type": "markdown",
   "metadata": {},
   "source": [
    "## Train the network"
   ]
  },
  {
   "cell_type": "code",
   "execution_count": 50,
   "metadata": {},
   "outputs": [
    {
     "data": {
      "application/vnd.jupyter.widget-view+json": {
       "model_id": "f753bd38bb6f4bd994cfc0adc1a0629f",
       "version_major": 2,
       "version_minor": 0
      },
      "text/plain": [
       "  0%|          | 0/800 [00:00<?, ?it/s]"
      ]
     },
     "metadata": {},
     "output_type": "display_data"
    },
    {
     "data": {
      "application/vnd.jupyter.widget-view+json": {
       "model_id": "91e52dbe8b1a4304b564541d4c2f10b2",
       "version_major": 2,
       "version_minor": 0
      },
      "text/plain": [
       "  0%|          | 0/800 [00:00<?, ?it/s]"
      ]
     },
     "metadata": {},
     "output_type": "display_data"
    },
    {
     "data": {
      "application/vnd.jupyter.widget-view+json": {
       "model_id": "36d09339f6d34d41916ca1a8fd98074f",
       "version_major": 2,
       "version_minor": 0
      },
      "text/plain": [
       "  0%|          | 0/800 [00:00<?, ?it/s]"
      ]
     },
     "metadata": {},
     "output_type": "display_data"
    },
    {
     "data": {
      "application/vnd.jupyter.widget-view+json": {
       "model_id": "634c41e0110d4af799f0f6e9ca66c457",
       "version_major": 2,
       "version_minor": 0
      },
      "text/plain": [
       "  0%|          | 0/800 [00:00<?, ?it/s]"
      ]
     },
     "metadata": {},
     "output_type": "display_data"
    },
    {
     "data": {
      "application/vnd.jupyter.widget-view+json": {
       "model_id": "d4ee24240ccb43db82b879f8a071beaa",
       "version_major": 2,
       "version_minor": 0
      },
      "text/plain": [
       "  0%|          | 0/800 [00:00<?, ?it/s]"
      ]
     },
     "metadata": {},
     "output_type": "display_data"
    },
    {
     "data": {
      "application/vnd.jupyter.widget-view+json": {
       "model_id": "1a71fb2d063d4661b4c58bc98703f5c2",
       "version_major": 2,
       "version_minor": 0
      },
      "text/plain": [
       "  0%|          | 0/800 [00:00<?, ?it/s]"
      ]
     },
     "metadata": {},
     "output_type": "display_data"
    },
    {
     "data": {
      "application/vnd.jupyter.widget-view+json": {
       "model_id": "4f5fff4c69dc4424bb552db8e3faa071",
       "version_major": 2,
       "version_minor": 0
      },
      "text/plain": [
       "  0%|          | 0/800 [00:00<?, ?it/s]"
      ]
     },
     "metadata": {},
     "output_type": "display_data"
    },
    {
     "data": {
      "application/vnd.jupyter.widget-view+json": {
       "model_id": "8b9c8f9024da45ffac2f7386581aba83",
       "version_major": 2,
       "version_minor": 0
      },
      "text/plain": [
       "  0%|          | 0/800 [00:00<?, ?it/s]"
      ]
     },
     "metadata": {},
     "output_type": "display_data"
    },
    {
     "data": {
      "application/vnd.jupyter.widget-view+json": {
       "model_id": "02430305071243aa857dffd9952b5ab5",
       "version_major": 2,
       "version_minor": 0
      },
      "text/plain": [
       "  0%|          | 0/800 [00:00<?, ?it/s]"
      ]
     },
     "metadata": {},
     "output_type": "display_data"
    },
    {
     "data": {
      "application/vnd.jupyter.widget-view+json": {
       "model_id": "25830f8a66cb4429b7dde56b67c86c55",
       "version_major": 2,
       "version_minor": 0
      },
      "text/plain": [
       "  0%|          | 0/800 [00:00<?, ?it/s]"
      ]
     },
     "metadata": {},
     "output_type": "display_data"
    }
   ],
   "source": [
    "meta_network = MetaNetwork(30, num_classes=1).train()\n",
    "\n",
    "num_epochs = 10\n",
    "lr = 0.01\n",
    "weight_decay = 1e-7\n",
    "optimizer = torch.optim.Adam(meta_network.parameters(), lr=lr, weight_decay=weight_decay)\n",
    "scheduler = torch.optim.lr_scheduler.CosineAnnealingLR(optimizer, num_epochs * len(train_dataset))\n",
    "\n",
    "loss_ema = np.inf\n",
    "for epoch in range(num_epochs):\n",
    "    \n",
    "    pbar = tqdm(train_loader)\n",
    "    pbar.set_description(f\"Epoch {epoch + 1}\")\n",
    "    for i, (net, label, data_source) in enumerate(pbar):\n",
    "        net = net[0]\n",
    "        label = label[0]\n",
    "        data_source = data_source[0]\n",
    "        net.eval()\n",
    "        \n",
    "        out = meta_network(net, data_source)\n",
    "        loss = F.binary_cross_entropy_with_logits(out, torch.FloatTensor([label]).unsqueeze(0))\n",
    "        \n",
    "        optimizer.zero_grad()\n",
    "        loss.backward(inputs=list(meta_network.parameters()))\n",
    "        optimizer.step()\n",
    "        scheduler.step()\n",
    "        for k in meta_network.queries.keys():\n",
    "            meta_network.queries[k].data = meta_network.queries[k].data.clamp(0, 1)\n",
    "        loss_ema = loss.item() if loss_ema == np.inf else 0.95 * loss_ema + 0.05 * loss.item()\n",
    "\n",
    "        pbar.set_postfix(loss=loss_ema)"
   ]
  },
  {
   "cell_type": "markdown",
   "metadata": {},
   "source": [
    "## Evaluate the network"
   ]
  },
  {
   "cell_type": "code",
   "execution_count": 86,
   "metadata": {},
   "outputs": [],
   "source": [
    "def evaluate(meta_network, loader):\n",
    "    loss_list = []\n",
    "    correct_list = []\n",
    "    confusion_matrix = torch.zeros(2,2)\n",
    "    all_scores = []\n",
    "    all_labels = []\n",
    "    data_sources = []\n",
    "    \n",
    "    for i, (net, label, data_source) in enumerate(tqdm(loader)):\n",
    "        net[0].eval()\n",
    "        with torch.no_grad():\n",
    "            out = meta_network(net[0], data_source[0])\n",
    "        loss = F.binary_cross_entropy_with_logits(out, torch.FloatTensor([label[0]]).unsqueeze(0))\n",
    "        correct = int((out.squeeze() > 0).int().item() == label[0])\n",
    "        loss_list.append(loss.item())\n",
    "        correct_list.append(correct)\n",
    "        confusion_matrix[(out.squeeze() > 0).int().item(), label[0]] += 1\n",
    "        all_scores.append(out.squeeze().item())\n",
    "        all_labels.append(label[0])\n",
    "        data_sources.append(data_source)\n",
    "    \n",
    "    return np.mean(loss_list), np.mean(correct_list), confusion_matrix, all_labels, all_scores, data_sources"
   ]
  },
  {
   "cell_type": "code",
   "execution_count": 52,
   "metadata": {},
   "outputs": [
    {
     "data": {
      "application/vnd.jupyter.widget-view+json": {
       "model_id": "753efe0ef31d465eaec56864a755314b",
       "version_major": 2,
       "version_minor": 0
      },
      "text/plain": [
       "  0%|          | 0/800 [00:00<?, ?it/s]"
      ]
     },
     "metadata": {},
     "output_type": "display_data"
    },
    {
     "name": "stdout",
     "output_type": "stream",
     "text": [
      "Train Loss: 0.031, Train Accuracy: 99.25\n",
      "Confusion Matrix:\n",
      " [[399.   6.]\n",
      " [  0. 395.]]\n"
     ]
    }
   ],
   "source": [
    "loss, acc, cmat, _, _, _ = evaluate(meta_network, train_loader)\n",
    "print(f'Train Loss: {loss:.3f}, Train Accuracy: {acc*100:.2f}')\n",
    "print('Confusion Matrix:\\n', cmat.numpy())"
   ]
  },
  {
   "cell_type": "code",
   "execution_count": 87,
   "metadata": {
    "scrolled": true
   },
   "outputs": [
    {
     "data": {
      "application/vnd.jupyter.widget-view+json": {
       "model_id": "ebeccdd8892849a28d10c324ad629f3d",
       "version_major": 2,
       "version_minor": 0
      },
      "text/plain": [
       "  0%|          | 0/200 [00:00<?, ?it/s]"
      ]
     },
     "metadata": {},
     "output_type": "display_data"
    },
    {
     "name": "stdout",
     "output_type": "stream",
     "text": [
      "Val Loss: 1.961, Val Accuracy: 63.50\n",
      "Confusion Matrix:\n",
      " [[65. 37.]\n",
      " [36. 62.]]\n"
     ]
    }
   ],
   "source": [
    "loss, acc, cmat, all_labels, all_preds, data_sources = evaluate(meta_network, val_loader)\n",
    "print(f'Val Loss: {loss:.3f}, Val Accuracy: {acc*100:.2f}')\n",
    "print('Confusion Matrix:\\n', cmat.numpy())"
   ]
  },
  {
   "cell_type": "code",
   "execution_count": 88,
   "metadata": {},
   "outputs": [
    {
     "name": "stdout",
     "output_type": "stream",
     "text": [
      "Val AUROC: 0.702\n"
     ]
    }
   ],
   "source": [
    "print(f'Val AUROC: {roc_auc_score(all_labels, all_preds):.3f}')\n"
   ]
  },
  {
   "cell_type": "code",
   "execution_count": 57,
   "metadata": {},
   "outputs": [],
   "source": [
    "path = os.path.join(\"./\", \"model.pt\")\n",
    "torch.save(meta_network.state_dict(), path)"
   ]
  },
  {
   "cell_type": "markdown",
   "metadata": {},
   "source": [
    "# Analysis"
   ]
  },
  {
   "cell_type": "code",
   "execution_count": 77,
   "metadata": {},
   "outputs": [
    {
     "data": {
      "image/png": "[encoded data removed]",
      "text/plain": [
       "<Figure size 640x480 with 1 Axes>"
      ]
     },
     "metadata": {},
     "output_type": "display_data"
    }
   ],
   "source": [
    "loss = [0.725, 0.678, 0.71, 0.646, 0.666, 0.372,  0.211, 0.0299, 0.0375, 0.0137]\n",
    "epochs = [1, 2, 3, 4, 5, 6, 7, 8, 9, 10]\n",
    "plt.plot(epochs, loss)\n",
    "plt.ylabel('Training loss')\n",
    "plt.xlabel('Epochs')\n",
    "plt.show()"
   ]
  },
  {
   "cell_type": "code",
   "execution_count": 89,
   "metadata": {},
   "outputs": [],
   "source": [
    "preds = ((np.array(all_preds)>0).astype(int))\n",
    "labels = [\"clean\", \"trojaned\"]"
   ]
  },
  {
   "cell_type": "code",
   "execution_count": 85,
   "metadata": {},
   "outputs": [
    {
     "data": {
      "image/png": "[encoded data removed]",
      "text/plain": [
       "<Figure size 640x480 with 2 Axes>"
      ]
     },
     "metadata": {},
     "output_type": "display_data"
    }
   ],
   "source": [
    "import sklearn\n",
    "from sklearn.metrics import confusion_matrix, ConfusionMatrixDisplay\n",
    "cm = confusion_matrix(all_labels, preds)\n",
    "disp = ConfusionMatrixDisplay(confusion_matrix=cm, display_labels=labels)\n",
    "disp.plot()\n",
    "\n",
    "plt.show()"
   ]
  },
  {
   "cell_type": "code",
   "execution_count": 117,
   "metadata": {},
   "outputs": [
    {
     "name": "stdout",
     "output_type": "stream",
     "text": [
      "40\n",
      "53\n",
      "24\n",
      "47\n",
      "38\n",
      "52\n",
      "25\n",
      "48\n"
     ]
    }
   ],
   "source": [
    "p = np.array(preds)\n",
    "l = np.array(all_labels)\n",
    "d = np.array(data_sources)\n",
    "d[np.where(p==l)].shape\n",
    "\n",
    "print((d[np.where(p==l)]=='CIFAR-10').sum())\n",
    "print((d=='CIFAR-10').sum())\n",
    "print((d[np.where(p==l)]=='MNIST').sum())\n",
    "print((d=='MNIST').sum())\n",
    "print((d[np.where(p==l)]=='CIFAR-100').sum())\n",
    "print((d=='CIFAR-100').sum())\n",
    "print((d[np.where(p==l)]=='GTSRB').sum())\n",
    "print((d=='GTSRB').sum())\n",
    "\n"
   ]
  },
  {
   "cell_type": "code",
   "execution_count": 102,
   "metadata": {},
   "outputs": [
    {
     "data": {
      "text/plain": [
       "0.7547169811320755"
      ]
     },
     "execution_count": 102,
     "metadata": {},
     "output_type": "execute_result"
    }
   ],
   "source": [
    "40/53"
   ]
  },
  {
   "cell_type": "code",
   "execution_count": 103,
   "metadata": {},
   "outputs": [
    {
     "data": {
      "text/plain": [
       "0.5106382978723404"
      ]
     },
     "execution_count": 103,
     "metadata": {},
     "output_type": "execute_result"
    }
   ],
   "source": [
    "24/47"
   ]
  },
  {
   "cell_type": "code",
   "execution_count": 104,
   "metadata": {},
   "outputs": [
    {
     "data": {
      "text/plain": [
       "0.7307692307692307"
      ]
     },
     "execution_count": 104,
     "metadata": {},
     "output_type": "execute_result"
    }
   ],
   "source": [
    "38/52"
   ]
  },
  {
   "cell_type": "code",
   "execution_count": 105,
   "metadata": {},
   "outputs": [
    {
     "data": {
      "text/plain": [
       "0.5208333333333334"
      ]
     },
     "execution_count": 105,
     "metadata": {},
     "output_type": "execute_result"
    }
   ],
   "source": [
    "25/48"
   ]
  },
  {
   "cell_type": "code",
   "execution_count": 120,
   "metadata": {},
   "outputs": [
    {
     "data": {
      "image/png": "[encoded data removed]",
      "text/plain": [
       "<Figure size 640x480 with 1 Axes>"
      ]
     },
     "metadata": {},
     "output_type": "display_data"
    }
   ],
   "source": [
    "loss = [0.5106, 0.7547, 0.7307, 0.5208]\n",
    "epochs = ['MNIST','CIFAR-10', 'CIFAR-100', 'GTSRB']\n",
    "plt.plot(epochs, loss)\n",
    "plt.ylabel('Validation Accurcay')\n",
    "plt.xlabel('Datasource')\n",
    "plt.show()"
   ]
  },
  {
   "cell_type": "code",
   "execution_count": 133,
   "metadata": {},
   "outputs": [
    {
     "name": "stdout",
     "output_type": "stream",
     "text": [
      "25\n",
      "28\n",
      "17\n",
      "30\n",
      "27\n",
      "25\n",
      "30\n",
      "18\n"
     ]
    }
   ],
   "source": [
    "p = np.array(preds)\n",
    "l = np.array(all_labels)\n",
    "d = np.array(data_sources)\n",
    "d[np.where(p==l)].shape\n",
    "cf10= (np.where(d=='CIFAR-10'))[0]\n",
    "l1 = np.where(l==1)[0]\n",
    "l1count = 0\n",
    "for i in cf10:\n",
    "    if i in l1:\n",
    "        l1count +=1\n",
    "print(l1count)\n",
    "print(53-l1count)\n",
    "cf10= (np.where(d=='MNIST'))[0]\n",
    "l1 = np.where(l==1)[0]\n",
    "l1count = 0\n",
    "for i in cf10:\n",
    "    if i in l1:\n",
    "        l1count +=1\n",
    "print(l1count)\n",
    "print(47-l1count)\n",
    "cf10= (np.where(d=='CIFAR-100'))[0]\n",
    "l1 = np.where(l==1)[0]\n",
    "l1count = 0\n",
    "for i in cf10:\n",
    "    if i in l1:\n",
    "        l1count +=1\n",
    "print(l1count)\n",
    "print(52-l1count)\n",
    "cf10= (np.where(d=='GTSRB'))[0]\n",
    "l1 = np.where(l==1)[0]\n",
    "l1count = 0\n",
    "for i in cf10:\n",
    "    if i in l1:\n",
    "        l1count +=1\n",
    "print(l1count)\n",
    "print(48-l1count)\n"
   ]
  }
 ],
 "metadata": {
  "kernelspec": {
   "display_name": "Python 3 (ipykernel)",
   "language": "python",
   "name": "python3"
  },
  "language_info": {
   "codemirror_mode": {
    "name": "ipython",
    "version": 3
   },
   "file_extension": ".py",
   "mimetype": "text/x-python",
   "name": "python",
   "nbconvert_exporter": "python",
   "pygments_lexer": "ipython3",
   "version": "3.10.4"
  },
  "vscode": {
   "interpreter": {
    "hash": "cfe34a9389bfb9158f4a57d38254999ecb4846a6b929cd8c17eb23c1b8c530ae"
   }
  }
 },
 "nbformat": 4,
 "nbformat_minor": 2
}
